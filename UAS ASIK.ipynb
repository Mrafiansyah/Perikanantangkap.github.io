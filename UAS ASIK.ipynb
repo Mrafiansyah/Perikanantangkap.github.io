{
 "cells": [
  {
   "cell_type": "code",
   "execution_count": 107,
   "id": "e229733a",
   "metadata": {},
   "outputs": [],
   "source": [
    "import pandas as pd\n",
    "import matplotlib.pyplot as plt\n",
    "from sklearn.linear_model import LinearRegression\n",
    "from sklearn.model_selection import train_test_split\n",
    "from sklearn.metrics import mean_absolute_error\n",
    "import math \n",
    "import seaborn as sns\n",
    "import numpy as np"
   ]
  },
  {
   "cell_type": "code",
   "execution_count": 108,
   "id": "901ff6aa",
   "metadata": {},
   "outputs": [
    {
     "data": {
      "text/html": [
       "<div>\n",
       "<style scoped>\n",
       "    .dataframe tbody tr th:only-of-type {\n",
       "        vertical-align: middle;\n",
       "    }\n",
       "\n",
       "    .dataframe tbody tr th {\n",
       "        vertical-align: top;\n",
       "    }\n",
       "\n",
       "    .dataframe thead th {\n",
       "        text-align: right;\n",
       "    }\n",
       "</style>\n",
       "<table border=\"1\" class=\"dataframe\">\n",
       "  <thead>\n",
       "    <tr style=\"text-align: right;\">\n",
       "      <th></th>\n",
       "      <th>Jenis Usaha;Provinsi;Jenis Ikan;Tahun;Volume Produksi;Nilai Produksi</th>\n",
       "    </tr>\n",
       "  </thead>\n",
       "  <tbody>\n",
       "    <tr>\n",
       "      <th>TANGKAP LAUT;JAWA BARAT;BAWAL;2018;51.533</th>\n",
       "      <td>92;2.589.332.974</td>\n",
       "    </tr>\n",
       "    <tr>\n",
       "      <th>TANGKAP LAUT;JAWA BARAT;BAWAL;2019;6.110</th>\n",
       "      <td>74;186.294.232</td>\n",
       "    </tr>\n",
       "    <tr>\n",
       "      <th>TANGKAP LAUT;JAWA BARAT;BAWAL;2020;5.292</th>\n",
       "      <td>19;152.813.905</td>\n",
       "    </tr>\n",
       "    <tr>\n",
       "      <th>TANGKAP LAUT;JAWA BARAT;BAWAL;2021;5.798</th>\n",
       "      <td>76;212.260.201</td>\n",
       "    </tr>\n",
       "    <tr>\n",
       "      <th>TANGKAP LAUT;JAWA BARAT;KAKAP;2010;6.051</th>\n",
       "      <td>00;175.480.396</td>\n",
       "    </tr>\n",
       "    <tr>\n",
       "      <th>TANGKAP LAUT;JAWA BARAT;KAKAP;2011;6.626</th>\n",
       "      <td>00;249.922.988</td>\n",
       "    </tr>\n",
       "    <tr>\n",
       "      <th>TANGKAP LAUT;JAWA BARAT;KAKAP;2012;12.247</th>\n",
       "      <td>00;350.490.979</td>\n",
       "    </tr>\n",
       "    <tr>\n",
       "      <th>TANGKAP LAUT;JAWA BARAT;KAKAP;2013;2.736</th>\n",
       "      <td>00;184.701.843</td>\n",
       "    </tr>\n",
       "    <tr>\n",
       "      <th>TANGKAP LAUT;JAWA BARAT;KAKAP;2014;707;269.648.175</th>\n",
       "      <td>NaN</td>\n",
       "    </tr>\n",
       "    <tr>\n",
       "      <th>TANGKAP LAUT;JAWA BARAT;KAKAP;2015;10.724</th>\n",
       "      <td>00;294.785.568</td>\n",
       "    </tr>\n",
       "    <tr>\n",
       "      <th>TANGKAP LAUT;JAWA BARAT;KAKAP;2016;8.688</th>\n",
       "      <td>00;331.382.367</td>\n",
       "    </tr>\n",
       "    <tr>\n",
       "      <th>TANGKAP LAUT;JAWA BARAT;KAKAP;2017;2.845</th>\n",
       "      <td>41;81.656.343</td>\n",
       "    </tr>\n",
       "    <tr>\n",
       "      <th>TANGKAP LAUT;JAWA BARAT;KAKAP;2018;23.237</th>\n",
       "      <td>04;1.124.429.095</td>\n",
       "    </tr>\n",
       "    <tr>\n",
       "      <th>TANGKAP LAUT;JAWA BARAT;KAKAP;2019;7.590</th>\n",
       "      <td>90;278.998.275</td>\n",
       "    </tr>\n",
       "    <tr>\n",
       "      <th>TANGKAP LAUT;JAWA BARAT;KAKAP;2020;11.281</th>\n",
       "      <td>52;365.452.116</td>\n",
       "    </tr>\n",
       "    <tr>\n",
       "      <th>TANGKAP LAUT;JAWA BARAT;KAKAP;2021;11.089</th>\n",
       "      <td>43;341.427.938</td>\n",
       "    </tr>\n",
       "    <tr>\n",
       "      <th>TANGKAP LAUT;JAWA BARAT;KERAPU;2010;267;6.325.108</th>\n",
       "      <td>NaN</td>\n",
       "    </tr>\n",
       "    <tr>\n",
       "      <th>TANGKAP LAUT;JAWA BARAT;KERAPU;2011;881;15.120.396</th>\n",
       "      <td>NaN</td>\n",
       "    </tr>\n",
       "    <tr>\n",
       "      <th>TANGKAP LAUT;JAWA BARAT;KERAPU;2012;1.973</th>\n",
       "      <td>00;43.033.928</td>\n",
       "    </tr>\n",
       "    <tr>\n",
       "      <th>TANGKAP LAUT;JAWA BARAT;KERAPU;2013;1.207</th>\n",
       "      <td>00;31.032.243</td>\n",
       "    </tr>\n",
       "    <tr>\n",
       "      <th>TANGKAP LAUT;JAWA BARAT;KERAPU;2014;151;6.826.782</th>\n",
       "      <td>NaN</td>\n",
       "    </tr>\n",
       "    <tr>\n",
       "      <th>TANGKAP LAUT;JAWA BARAT;KERAPU;2015;626;17.906.372</th>\n",
       "      <td>NaN</td>\n",
       "    </tr>\n",
       "    <tr>\n",
       "      <th>TANGKAP LAUT;JAWA BARAT;KERAPU;2016;182;5.652.372</th>\n",
       "      <td>NaN</td>\n",
       "    </tr>\n",
       "    <tr>\n",
       "      <th>TANGKAP LAUT;JAWA BARAT;KERAPU;2017;489</th>\n",
       "      <td>48;17.500.027</td>\n",
       "    </tr>\n",
       "    <tr>\n",
       "      <th>TANGKAP LAUT;JAWA BARAT;KERAPU;2018;3.030</th>\n",
       "      <td>52;265.363.099</td>\n",
       "    </tr>\n",
       "    <tr>\n",
       "      <th>TANGKAP LAUT;JAWA BARAT;KERAPU;2019;579</th>\n",
       "      <td>35;15.153.805</td>\n",
       "    </tr>\n",
       "    <tr>\n",
       "      <th>TANGKAP LAUT;JAWA BARAT;KERAPU;2020;297</th>\n",
       "      <td>83;12.112.252</td>\n",
       "    </tr>\n",
       "    <tr>\n",
       "      <th>TANGKAP LAUT;JAWA BARAT;KERAPU;2021;100</th>\n",
       "      <td>78;4.585.552</td>\n",
       "    </tr>\n",
       "    <tr>\n",
       "      <th>TANGKAP LAUT;JAWA BARAT;TUNA;2010;2.284</th>\n",
       "      <td>00;47.611.480</td>\n",
       "    </tr>\n",
       "    <tr>\n",
       "      <th>TANGKAP LAUT;JAWA BARAT;TUNA;2011;3.994</th>\n",
       "      <td>00;99.969.482</td>\n",
       "    </tr>\n",
       "    <tr>\n",
       "      <th>TANGKAP LAUT;JAWA BARAT;TUNA;2012;4.533</th>\n",
       "      <td>00;137.171.917</td>\n",
       "    </tr>\n",
       "    <tr>\n",
       "      <th>TANGKAP LAUT;JAWA BARAT;TUNA;2013;5.635</th>\n",
       "      <td>00;174.046.168</td>\n",
       "    </tr>\n",
       "    <tr>\n",
       "      <th>TANGKAP LAUT;JAWA BARAT;TUNA;2014;6.934</th>\n",
       "      <td>00;225.088.361</td>\n",
       "    </tr>\n",
       "    <tr>\n",
       "      <th>TANGKAP LAUT;JAWA BARAT;TUNA;2015;4.793</th>\n",
       "      <td>00;153.349.380</td>\n",
       "    </tr>\n",
       "    <tr>\n",
       "      <th>TANGKAP LAUT;JAWA BARAT;TUNA;2016;2.334</th>\n",
       "      <td>00;77.237.684</td>\n",
       "    </tr>\n",
       "    <tr>\n",
       "      <th>TANGKAP LAUT;JAWA BARAT;TUNA;2017;2.560</th>\n",
       "      <td>01;98.186.229</td>\n",
       "    </tr>\n",
       "    <tr>\n",
       "      <th>TANGKAP LAUT;JAWA BARAT;TUNA;2018;1.397</th>\n",
       "      <td>43;82.003.890</td>\n",
       "    </tr>\n",
       "    <tr>\n",
       "      <th>TANGKAP LAUT;JAWA BARAT;TUNA;2019;1.153</th>\n",
       "      <td>83;35.875.699</td>\n",
       "    </tr>\n",
       "    <tr>\n",
       "      <th>TANGKAP LAUT;JAWA BARAT;TUNA;2020;1.463</th>\n",
       "      <td>54;43.677.193</td>\n",
       "    </tr>\n",
       "    <tr>\n",
       "      <th>TANGKAP LAUT;JAWA BARAT;TUNA;2021;1.478</th>\n",
       "      <td>28;39.090.303</td>\n",
       "    </tr>\n",
       "  </tbody>\n",
       "</table>\n",
       "</div>"
      ],
      "text/plain": [
       "                                                   Jenis Usaha;Provinsi;Jenis Ikan;Tahun;Volume Produksi;Nilai Produksi\n",
       "TANGKAP LAUT;JAWA BARAT;BAWAL;2018;51.533                                            92;2.589.332.974                  \n",
       "TANGKAP LAUT;JAWA BARAT;BAWAL;2019;6.110                                               74;186.294.232                  \n",
       "TANGKAP LAUT;JAWA BARAT;BAWAL;2020;5.292                                               19;152.813.905                  \n",
       "TANGKAP LAUT;JAWA BARAT;BAWAL;2021;5.798                                               76;212.260.201                  \n",
       "TANGKAP LAUT;JAWA BARAT;KAKAP;2010;6.051                                               00;175.480.396                  \n",
       "TANGKAP LAUT;JAWA BARAT;KAKAP;2011;6.626                                               00;249.922.988                  \n",
       "TANGKAP LAUT;JAWA BARAT;KAKAP;2012;12.247                                              00;350.490.979                  \n",
       "TANGKAP LAUT;JAWA BARAT;KAKAP;2013;2.736                                               00;184.701.843                  \n",
       "TANGKAP LAUT;JAWA BARAT;KAKAP;2014;707;269.648.175                                                NaN                  \n",
       "TANGKAP LAUT;JAWA BARAT;KAKAP;2015;10.724                                              00;294.785.568                  \n",
       "TANGKAP LAUT;JAWA BARAT;KAKAP;2016;8.688                                               00;331.382.367                  \n",
       "TANGKAP LAUT;JAWA BARAT;KAKAP;2017;2.845                                                41;81.656.343                  \n",
       "TANGKAP LAUT;JAWA BARAT;KAKAP;2018;23.237                                            04;1.124.429.095                  \n",
       "TANGKAP LAUT;JAWA BARAT;KAKAP;2019;7.590                                               90;278.998.275                  \n",
       "TANGKAP LAUT;JAWA BARAT;KAKAP;2020;11.281                                              52;365.452.116                  \n",
       "TANGKAP LAUT;JAWA BARAT;KAKAP;2021;11.089                                              43;341.427.938                  \n",
       "TANGKAP LAUT;JAWA BARAT;KERAPU;2010;267;6.325.108                                                 NaN                  \n",
       "TANGKAP LAUT;JAWA BARAT;KERAPU;2011;881;15.120.396                                                NaN                  \n",
       "TANGKAP LAUT;JAWA BARAT;KERAPU;2012;1.973                                               00;43.033.928                  \n",
       "TANGKAP LAUT;JAWA BARAT;KERAPU;2013;1.207                                               00;31.032.243                  \n",
       "TANGKAP LAUT;JAWA BARAT;KERAPU;2014;151;6.826.782                                                 NaN                  \n",
       "TANGKAP LAUT;JAWA BARAT;KERAPU;2015;626;17.906.372                                                NaN                  \n",
       "TANGKAP LAUT;JAWA BARAT;KERAPU;2016;182;5.652.372                                                 NaN                  \n",
       "TANGKAP LAUT;JAWA BARAT;KERAPU;2017;489                                                 48;17.500.027                  \n",
       "TANGKAP LAUT;JAWA BARAT;KERAPU;2018;3.030                                              52;265.363.099                  \n",
       "TANGKAP LAUT;JAWA BARAT;KERAPU;2019;579                                                 35;15.153.805                  \n",
       "TANGKAP LAUT;JAWA BARAT;KERAPU;2020;297                                                 83;12.112.252                  \n",
       "TANGKAP LAUT;JAWA BARAT;KERAPU;2021;100                                                  78;4.585.552                  \n",
       "TANGKAP LAUT;JAWA BARAT;TUNA;2010;2.284                                                 00;47.611.480                  \n",
       "TANGKAP LAUT;JAWA BARAT;TUNA;2011;3.994                                                 00;99.969.482                  \n",
       "TANGKAP LAUT;JAWA BARAT;TUNA;2012;4.533                                                00;137.171.917                  \n",
       "TANGKAP LAUT;JAWA BARAT;TUNA;2013;5.635                                                00;174.046.168                  \n",
       "TANGKAP LAUT;JAWA BARAT;TUNA;2014;6.934                                                00;225.088.361                  \n",
       "TANGKAP LAUT;JAWA BARAT;TUNA;2015;4.793                                                00;153.349.380                  \n",
       "TANGKAP LAUT;JAWA BARAT;TUNA;2016;2.334                                                 00;77.237.684                  \n",
       "TANGKAP LAUT;JAWA BARAT;TUNA;2017;2.560                                                 01;98.186.229                  \n",
       "TANGKAP LAUT;JAWA BARAT;TUNA;2018;1.397                                                 43;82.003.890                  \n",
       "TANGKAP LAUT;JAWA BARAT;TUNA;2019;1.153                                                 83;35.875.699                  \n",
       "TANGKAP LAUT;JAWA BARAT;TUNA;2020;1.463                                                 54;43.677.193                  \n",
       "TANGKAP LAUT;JAWA BARAT;TUNA;2021;1.478                                                 28;39.090.303                  "
      ]
     },
     "execution_count": 108,
     "metadata": {},
     "output_type": "execute_result"
    }
   ],
   "source": [
    "df=pd.read_csv('data.csv')\n",
    "df.tail(40)"
   ]
  },
  {
   "cell_type": "code",
   "execution_count": 109,
   "id": "e1cd1196",
   "metadata": {},
   "outputs": [
    {
     "data": {
      "text/html": [
       "<div>\n",
       "<style scoped>\n",
       "    .dataframe tbody tr th:only-of-type {\n",
       "        vertical-align: middle;\n",
       "    }\n",
       "\n",
       "    .dataframe tbody tr th {\n",
       "        vertical-align: top;\n",
       "    }\n",
       "\n",
       "    .dataframe thead th {\n",
       "        text-align: right;\n",
       "    }\n",
       "</style>\n",
       "<table border=\"1\" class=\"dataframe\">\n",
       "  <thead>\n",
       "    <tr style=\"text-align: right;\">\n",
       "      <th></th>\n",
       "      <th>Jenis Usaha;Provinsi;Jenis Ikan;Tahun;Volume Produksi;Nilai Produksi</th>\n",
       "    </tr>\n",
       "  </thead>\n",
       "  <tbody>\n",
       "    <tr>\n",
       "      <th>count</th>\n",
       "      <td>44</td>\n",
       "    </tr>\n",
       "    <tr>\n",
       "      <th>unique</th>\n",
       "      <td>44</td>\n",
       "    </tr>\n",
       "    <tr>\n",
       "      <th>top</th>\n",
       "      <td>00;120.683.906</td>\n",
       "    </tr>\n",
       "    <tr>\n",
       "      <th>freq</th>\n",
       "      <td>1</td>\n",
       "    </tr>\n",
       "  </tbody>\n",
       "</table>\n",
       "</div>"
      ],
      "text/plain": [
       "       Jenis Usaha;Provinsi;Jenis Ikan;Tahun;Volume Produksi;Nilai Produksi\n",
       "count                                                  44                  \n",
       "unique                                                 44                  \n",
       "top                                        00;120.683.906                  \n",
       "freq                                                    1                  "
      ]
     },
     "execution_count": 109,
     "metadata": {},
     "output_type": "execute_result"
    }
   ],
   "source": [
    "df.describe()"
   ]
  },
  {
   "cell_type": "code",
   "execution_count": 110,
   "id": "7a1a0829",
   "metadata": {},
   "outputs": [
    {
     "data": {
      "text/plain": [
       "Jenis Usaha;Provinsi;Jenis Ikan;Tahun;Volume Produksi;Nilai Produksi    6\n",
       "dtype: int64"
      ]
     },
     "execution_count": 110,
     "metadata": {},
     "output_type": "execute_result"
    }
   ],
   "source": [
    "df.isnull().sum()"
   ]
  },
  {
   "cell_type": "code",
   "execution_count": 111,
   "id": "52722fbd",
   "metadata": {},
   "outputs": [],
   "source": [
    "from sklearn.model_selection import train_test_split\n",
    "x=df.iloc[:,1:4].values\n",
    "y=df.iloc[:,-1].values\n",
    "xtrain,xtes,ytrain,ytes=train_test_split(x,y,train_size=0.7,random_state=42)"
   ]
  },
  {
   "cell_type": "code",
   "execution_count": 112,
   "id": "2e3b3f20",
   "metadata": {},
   "outputs": [
    {
     "name": "stdout",
     "output_type": "stream",
     "text": [
      "Banyak data latih:  35\n",
      "Banyak data uji:  15\n"
     ]
    }
   ],
   "source": [
    "print(\"Banyak data latih: \", len(xtrain))\n",
    "print(\"Banyak data uji: \", len(xtes))"
   ]
  },
  {
   "cell_type": "code",
   "execution_count": null,
   "id": "9f982e07",
   "metadata": {},
   "outputs": [],
   "source": []
  },
  {
   "cell_type": "code",
   "execution_count": 123,
   "id": "88c5d80f",
   "metadata": {},
   "outputs": [
    {
     "data": {
      "image/png": "[encoded data removed]",
      "text/plain": [
       "<Figure size 432x288 with 1 Axes>"
      ]
     },
     "metadata": {
      "needs_background": "light"
     },
     "output_type": "display_data"
    }
   ],
   "source": [
    "import matplotlib.pyplot as plt\n",
    "fig = plt.figure()\n",
    "x = [2010, 2011, 2012, 2013, 2014, 2015, 2016, 2017, 2018, 2019, 2020]\n",
    "y = [2.284, 3.994, 4.533, 5.366, 6.934, 4.793, 2.334, 2.560, 1.397, 1.153, 1.146]\n",
    "plt.plot(x,y)\n",
    "plt.show()"
   ]
  },
  {
   "cell_type": "code",
   "execution_count": 114,
   "id": "38422bdf",
   "metadata": {},
   "outputs": [],
   "source": [
    "regressor = LinearRegression()"
   ]
  },
  {
   "cell_type": "code",
   "execution_count": 119,
   "id": "d581dd49",
   "metadata": {},
   "outputs": [
    {
     "ename": "NameError",
     "evalue": "name 'new_dataframe' is not defined",
     "output_type": "error",
     "traceback": [
      "\u001b[1;31m---------------------------------------------------------------------------\u001b[0m",
      "\u001b[1;31mNameError\u001b[0m                                 Traceback (most recent call last)",
      "\u001b[1;32m<ipython-input-119-22b58e709d29>\u001b[0m in \u001b[0;36m<module>\u001b[1;34m\u001b[0m\n\u001b[1;32m----> 1\u001b[1;33m \u001b[0mnew_dataframe\u001b[0m\u001b[1;33m\u001b[0m\u001b[1;33m\u001b[0m\u001b[0m\n\u001b[0m",
      "\u001b[1;31mNameError\u001b[0m: name 'new_dataframe' is not defined"
     ]
    }
   ],
   "source": [
    "new_dataframe"
   ]
  },
  {
   "cell_type": "code",
   "execution_count": null,
   "id": "3b569dd4",
   "metadata": {},
   "outputs": [],
   "source": []
  },
  {
   "cell_type": "code",
   "execution_count": null,
   "id": "41fef8c7",
   "metadata": {},
   "outputs": [],
   "source": []
  }
 ],
 "metadata": {
  "kernelspec": {
   "display_name": "Python 3",
   "language": "python",
   "name": "python3"
  },
  "language_info": {
   "codemirror_mode": {
    "name": "ipython",
    "version": 3
   },
   "file_extension": ".py",
   "mimetype": "text/x-python",
   "name": "python",
   "nbconvert_exporter": "python",
   "pygments_lexer": "ipython3",
   "version": "3.8.8"
  }
 },
 "nbformat": 4,
 "nbformat_minor": 5
}
